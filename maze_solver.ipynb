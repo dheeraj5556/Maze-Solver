{
 "cells": [
  {
   "cell_type": "code",
   "execution_count": 17,
   "metadata": {},
   "outputs": [],
   "source": [
    "\n",
    "\"\"\"\n",
    "License\n",
    "https://www.youtube.com/c/LearningOrbis\n",
    "Copyright (c) 2021 Muhammad Ahsan Naeem\n",
    "mahsan.naeem@gmail.com\n",
    "\n",
    "\n",
    "Permission is hereby granted, free of charge, to any person obtaining a copy\n",
    "of this software and associated documentation files (the \"Software\"), to deal\n",
    "in the Software without restriction, including without limitation the rights\n",
    "to use, copy, modify, merge, publish, distribute, sublicense, and/or sell\n",
    "copies of the Software, and to permit persons to whom the Software is\n",
    "furnished to do so, subject to the following conditions:\n",
    "The above copyright notice and this permission notice shall be included in all\n",
    "copies or substantial portions of the Software.\n",
    "THE SOFTWARE IS PROVIDED \"AS IS\", WITHOUT WARRANTY OF ANY KIND, EXPRESS OR\n",
    "IMPLIED, INCLUDING BUT NOT LIMITED TO THE WARRANTIES OF MERCHANTABILITY,\n",
    "FITNESS FOR A PARTICULAR PURPOSE AND NONINFRINGEMENT. IN NO EVENT SHALL THE\n",
    "AUTHORS OR COPYRIGHT HOLDERS BE LIABLE FOR ANY CLAIM, DAMAGES OR OTHER\n",
    "LIABILITY, WHETHER IN AN ACTION OF CONTRACT, TORT OR OTHERWISE, ARISING FROM,\n",
    "OUT OF OR IN CONNECTION WITH THE SOFTWARE OR THE USE OR OTHER DEALINGS IN THE\n",
    "SOFTWARE.\n",
    "\"\"\""
   ]
  },
  {
   "cell_type": "code",
   "execution_count": 2,
   "metadata": {},
   "outputs": [],
   "source": [
    "from pyamaze import maze, agent, textLabel\n",
    "# here i created and saved mazes for the comparisons\n",
    "mazeWidth, mazeHeight = 70,70\n",
    "m = maze(mazeWidth, mazeHeight)\n",
    "m.CreateMaze(loopPercent=50, saveMaze=True, theme = 'light')\n",
    "a = agent(m, color='red', filled='True')\n",
    "textLabel(m, 'Size of Maze', f'{mazeWidth}x{mazeHeight}')\n",
    "textLabel(m, 'Start Point', 'Red Cell')\n",
    "textLabel(m, 'End Point', 'Green Cell')\n",
    "m.run()"
   ]
  },
  {
   "cell_type": "markdown",
   "metadata": {},
   "source": [
    "Search Algorithms - BFS, DFS and A*"
   ]
  },
  {
   "cell_type": "code",
   "execution_count": 1,
   "metadata": {},
   "outputs": [],
   "source": [
    "from pyamaze import maze, agent, COLOR, textLabel\n",
    "from queue import PriorityQueue\n",
    "import time\n",
    "import math\n",
    "import tracemalloc\n",
    "\n",
    "#this is my base class for search algorithms\n",
    "class SearchAlgos:\n",
    "    def __init__(self, mazeSize=(1,1), start=None):\n",
    "        self.m = maze()\n",
    "        mazeFileName = f'{mazeSize[0]}x{mazeSize[1]}Maze.csv'\n",
    "        self.m.CreateMaze(loadMaze=mazeFileName, theme='light')\n",
    "        #self.m = maze(mazeSize[0], mazeSize[1])\n",
    "        #self.m.CreateMaze(loopPercent=50, saveMaze=True, theme = 'light')\n",
    "        textLabel(self.m, 'Size of Maze', f'{mazeSize[0]}x{mazeSize[1]}')\n",
    "        self.start = start if start else (self.m.rows, self.m.cols)\n",
    "        self.path = {}\n",
    "        self.searchPath = [self.start]\n",
    "        self.totalTime = 0\n",
    "        self.nodesExplored = 0\n",
    "        self.initAgents()\n",
    "\n",
    "    def initAgents(self):\n",
    "\n",
    "        self.agents = {\n",
    "            'searchAgent': agent(self.m, footprints=True, color=COLOR.cyan, shape='square', filled=True),\n",
    "            'pathAgent': agent(self.m, footprints=True, color=COLOR.red, shape='arrow', filled=False),\n",
    "   \n",
    "        }\n",
    "\n",
    "    def vizSearchPath(self):\n",
    "\n",
    "        _, _, fwdPath = self._vizSearchPath_internal()\n",
    "        fpathlist = [self.start]\n",
    "        cel = self.start\n",
    "        while cel in fwdPath:\n",
    "            cel = fwdPath[cel]\n",
    "            fpathlist.append(cel)\n",
    "\n",
    "        self.m.tracePath({self.agents['searchAgent']: self.searchPath}, delay=10)\n",
    "        self.m.tracePath({self.agents['pathAgent']: fpathlist}, delay=10)\n",
    "\n",
    "    def _vizSearchPath_internal(self):\n",
    "        fwdPath = {}\n",
    "        cel = self.m._goal\n",
    "        while cel != self.start:\n",
    "            fwdPath[self.path[cel]] = cel\n",
    "            cel = self.path[cel]\n",
    "        return self.searchPath, self.path, fwdPath\n",
    "\n",
    "    def algoStats(self, algorithm_name=\"Search Algorithm\", mazeSize=(1,1)):\n",
    "        _, _, fwdPath = self._vizSearchPath_internal()\n",
    "        bestPathLen = len(fwdPath) + 1\n",
    "        print(\"Statistics for {} on Maze Size {}x{}:\".format(algorithm_name, mazeSize[0], mazeSize[1]))\n",
    "        print(f\"Nodes Explored by {algorithm_name}: {self.nodesExplored}\")\n",
    "        print(f\"Time Taken: {self.totalTime:.2f} milliseconds\")\n",
    "        print(f\"Shortest Path Length: {bestPathLen}\")\n",
    "        print(f\"Memory Used: {self.memoryUsed / 1024:.2f} KB\")\n",
    "\n",
    "    def _move(self, cel, dirr):\n",
    "        if dirr == 'E':\n",
    "            return (cel[0], cel[1] + 1)\n",
    "        elif dirr == 'W':\n",
    "            return (cel[0], cel[1] - 1)\n",
    "        elif dirr == 'S':\n",
    "            return (cel[0] + 1, cel[1])\n",
    "        elif dirr == 'N':\n",
    "            return (cel[0] - 1, cel[1])\n",
    "\n",
    "#class for BFS\n",
    "class BFS(SearchAlgos):\n",
    "    def __init__(self, mazeSize=(1, 1), start=None):\n",
    "        super().__init__(mazeSize, start)\n",
    "        self.queue = [self.start]\n",
    "\n",
    "\n",
    "    def startSearch(self):\n",
    "        tracemalloc.start()\n",
    "        beginT = time.time()\n",
    "        while self.queue:\n",
    "            presentcel = self.queue.pop(0)\n",
    "            self.nodesExplored += 1\n",
    "            if presentcel == self.m._goal:\n",
    "                break\n",
    "            for d in 'NSEW':\n",
    "                if self.m.maze_map[presentcel][d]:\n",
    "                    nextcel = self._move(presentcel, d)\n",
    "                    if nextcel in self.searchPath:\n",
    "                        continue\n",
    "                    self.queue.append(nextcel)\n",
    "                    self.searchPath.append(nextcel)\n",
    "                    self.path[nextcel] = presentcel\n",
    "        self.totalTime = (time.time() - beginT) * 1000\n",
    "        self.memoryUsed = tracemalloc.get_traced_memory()[1]  \n",
    "        tracemalloc.stop()\n",
    "        self.vizSearchPath()\n",
    "\n",
    " #class for DFS       \n",
    "class DFS(SearchAlgos):\n",
    "    def __init__(self, mazeSize=(1, 1), start=None):\n",
    "        super().__init__(mazeSize, start)\n",
    "        self.stack = [self.start]\n",
    "\n",
    "    def startSearch(self):\n",
    "        tracemalloc.start()\n",
    "        beginT = time.time()\n",
    "        while self.stack:\n",
    "            presentcel = self.stack.pop()\n",
    "            self.nodesExplored += 1\n",
    "            if presentcel == self.m._goal:\n",
    "                break\n",
    "            for d in 'NSEW':\n",
    "                if self.m.maze_map[presentcel][d]:\n",
    "                    nextcel = self._move(presentcel, d)\n",
    "                    if nextcel in self.searchPath:\n",
    "                        continue\n",
    "                    self.stack.append(nextcel)\n",
    "                    self.searchPath.append(nextcel)\n",
    "                    self.path[nextcel] = presentcel\n",
    "        self.totalTime = (time.time() - beginT) * 1000\n",
    "        self.memoryUsed = tracemalloc.get_traced_memory()[1]  \n",
    "        tracemalloc.stop()\n",
    "        self.vizSearchPath()\n",
    "\n",
    "#class for A star with Manhattan distance\n",
    "class AStar_Manhat(SearchAlgos):\n",
    "    def __init__(self, mazeSize=(1, 1), start=None):\n",
    "        super().__init__(mazeSize, start)\n",
    "        self.open = PriorityQueue()\n",
    "        self.gcost = {}\n",
    "        self.fcost = {}\n",
    "\n",
    "    def heuristic(self, cel1, cel2):\n",
    "        return abs(cel1[0] - cel2[0]) + abs(cel1[1] - cel2[1])\n",
    "\n",
    "    def startSearch(self):\n",
    "        \n",
    "        goal = (self.m._goal[0], self.m._goal[1])\n",
    "        self.gcost[self.start] = 0\n",
    "        self.fcost[self.start] = self.heuristic(self.start, goal)\n",
    "        self.open.put((self.fcost[self.start], self.heuristic(self.start, goal), self.start))\n",
    "        tracemalloc.start()\n",
    "        beginT = time.time()\n",
    "        while not self.open.empty():\n",
    "            _, _, presentcel = self.open.get()\n",
    "            if presentcel == goal:\n",
    "                break\n",
    "            for d in 'NSEW':\n",
    "                if self.m.maze_map[presentcel][d]:\n",
    "                    nextcel = self._move(presentcel, d)\n",
    "                    temp_gcost = self.gcost.get(presentcel, float('inf')) + 1\n",
    "                    temp_fcost = temp_gcost + self.heuristic(nextcel, goal)\n",
    "\n",
    "\n",
    "                    if temp_fcost < self.fcost.get(nextcel, float('inf')):\n",
    "                        self.path[nextcel] = presentcel\n",
    "                        self.gcost[nextcel] = temp_gcost\n",
    "                        self.fcost[nextcel] = temp_fcost\n",
    "                        self.open.put((temp_fcost, self.heuristic(nextcel, goal), nextcel))\n",
    "            self.nodesExplored += 1\n",
    "        self.totalTime = (time.time() - beginT) * 1000\n",
    "        self.memoryUsed = tracemalloc.get_traced_memory()[1]  \n",
    "        tracemalloc.stop()\n",
    "        self.vizSearchPath()\n",
    "\n",
    "#class for A star with Euclidian        \n",
    "class AStar_Euclid(SearchAlgos):\n",
    "    def __init__(self, mazeSize=(1, 1), start=None):\n",
    "        super().__init__(mazeSize, start)\n",
    "        self.open = PriorityQueue()\n",
    "        self.gcost = {}\n",
    "        self.fcost = {}\n",
    "\n",
    "    def heuristic(self, cel1, cel2):\n",
    "        return math.sqrt((cel1[0] - cel2[0])**2 + (cel1[1] - cel2[1])**2)\n",
    "\n",
    "    def startSearch(self):\n",
    "        \n",
    "        goal = (self.m._goal[0], self.m._goal[1])\n",
    "        self.gcost[self.start] = 0\n",
    "        self.fcost[self.start] = self.heuristic(self.start, goal)\n",
    "        self.open.put((self.fcost[self.start], self.heuristic(self.start, goal), self.start))\n",
    "        tracemalloc.start()\n",
    "        beginT = time.time()\n",
    "        while not self.open.empty():\n",
    "            _, _, presentcel = self.open.get()\n",
    "            if presentcel == goal:\n",
    "                break\n",
    "            for d in 'NSEW':\n",
    "                if self.m.maze_map[presentcel][d]:\n",
    "                    nextcel = self._move(presentcel, d)\n",
    "                    temp_gcost = self.gcost.get(presentcel, float('inf')) + 1\n",
    "                    temp_fcost = temp_gcost + self.heuristic(nextcel, goal)\n",
    "\n",
    "                    if temp_fcost < self.fcost.get(nextcel, float('inf')):\n",
    "                        self.path[nextcel] = presentcel\n",
    "                        self.gcost[nextcel] = temp_gcost\n",
    "                        self.fcost[nextcel] = temp_fcost\n",
    "                        self.open.put((temp_fcost, self.heuristic(nextcel, goal), nextcel))\n",
    "            self.nodesExplored += 1\n",
    "        self.totalTime = (time.time() - beginT) * 1000\n",
    "        self.memoryUsed = tracemalloc.get_traced_memory()[1]  \n",
    "        tracemalloc.stop()\n",
    "        self.vizSearchPath()\n",
    "        \n",
    "        "
   ]
  },
  {
   "cell_type": "code",
   "execution_count": 2,
   "metadata": {},
   "outputs": [
    {
     "name": "stdout",
     "output_type": "stream",
     "text": [
      "Statistics for BFS on Maze Size 30x30:\n",
      "Nodes Explored by BFS: 896\n",
      "Time Taken: 16.00 milliseconds\n",
      "Shortest Path Length: 61\n",
      "Memory Used: 60.31 KB\n"
     ]
    }
   ],
   "source": [
    "mazeSize = (30, 30) \n",
    "bfs = BFS(mazeSize=mazeSize)\n",
    "\n",
    "bfs.startSearch()\n",
    "\n",
    "bfs.algoStats(\"BFS\",mazeSize)\n",
    "bfs.m.run()\n"
   ]
  },
  {
   "cell_type": "code",
   "execution_count": 2,
   "metadata": {},
   "outputs": [
    {
     "name": "stdout",
     "output_type": "stream",
     "text": [
      "Statistics for BFS on Maze Size 50x50:\n",
      "Nodes Explored by BFS: 2487\n",
      "Time Taken: 106.51 milliseconds\n",
      "Shortest Path Length: 105\n",
      "Memory Used: 120.07 KB\n"
     ]
    }
   ],
   "source": [
    "mazeSize = (50, 50) \n",
    "bfs = BFS(mazeSize=mazeSize)\n",
    "\n",
    "bfs.startSearch()\n",
    "\n",
    "bfs.algoStats(\"BFS\",mazeSize)\n",
    "bfs.m.run()\n"
   ]
  },
  {
   "cell_type": "code",
   "execution_count": 2,
   "metadata": {},
   "outputs": [
    {
     "name": "stdout",
     "output_type": "stream",
     "text": [
      "Statistics for BFS on Maze Size 70x70:\n",
      "Nodes Explored by BFS: 4900\n",
      "Time Taken: 486.45 milliseconds\n",
      "Shortest Path Length: 149\n",
      "Memory Used: 344.09 KB\n"
     ]
    }
   ],
   "source": [
    "mazeSize = (70, 70) \n",
    "bfs = BFS(mazeSize=mazeSize)\n",
    "\n",
    "bfs.startSearch()\n",
    "\n",
    "bfs.algoStats(\"BFS\",mazeSize)\n",
    "bfs.m.run()\n"
   ]
  },
  {
   "cell_type": "code",
   "execution_count": 2,
   "metadata": {},
   "outputs": [
    {
     "name": "stdout",
     "output_type": "stream",
     "text": [
      "Statistics for DFS on Maze Size 30x30:\n",
      "Nodes Explored by DFS: 580\n",
      "Time Taken: 9.00 milliseconds\n",
      "Shortest Path Length: 301\n",
      "Memory Used: 61.21 KB\n"
     ]
    }
   ],
   "source": [
    "mazeSize = (30, 30) \n",
    "dfs = DFS(mazeSize=mazeSize)\n",
    "\n",
    "dfs.startSearch()\n",
    "\n",
    "dfs.algoStats(\"DFS\", mazeSize)\n",
    "dfs.m.run()"
   ]
  },
  {
   "cell_type": "code",
   "execution_count": 2,
   "metadata": {},
   "outputs": [
    {
     "name": "stdout",
     "output_type": "stream",
     "text": [
      "Statistics for DFS on Maze Size 50x50:\n",
      "Nodes Explored by DFS: 1638\n",
      "Time Taken: 67.51 milliseconds\n",
      "Shortest Path Length: 677\n",
      "Memory Used: 121.49 KB\n"
     ]
    }
   ],
   "source": [
    "mazeSize = (50, 50) \n",
    "dfs = DFS(mazeSize=mazeSize)\n",
    "\n",
    "dfs.startSearch()\n",
    "\n",
    "dfs.algoStats(\"DFS\", mazeSize)\n",
    "dfs.m.run()"
   ]
  },
  {
   "cell_type": "code",
   "execution_count": 2,
   "metadata": {},
   "outputs": [
    {
     "name": "stdout",
     "output_type": "stream",
     "text": [
      "Statistics for DFS on Maze Size 70x70:\n",
      "Nodes Explored by DFS: 3430\n",
      "Time Taken: 276.04 milliseconds\n",
      "Shortest Path Length: 1265\n",
      "Memory Used: 287.48 KB\n"
     ]
    }
   ],
   "source": [
    "mazeSize = (70, 70) \n",
    "dfs = DFS(mazeSize=mazeSize)\n",
    "\n",
    "dfs.startSearch()\n",
    "\n",
    "dfs.algoStats(\"DFS\", mazeSize)\n",
    "dfs.m.run()"
   ]
  },
  {
   "cell_type": "code",
   "execution_count": 2,
   "metadata": {},
   "outputs": [
    {
     "name": "stdout",
     "output_type": "stream",
     "text": [
      "Statistics for AStar_Manhat on Maze Size 30x30:\n",
      "Nodes Explored by AStar_Manhat: 165\n",
      "Time Taken: 2.00 milliseconds\n",
      "Shortest Path Length: 61\n",
      "Memory Used: 35.13 KB\n"
     ]
    }
   ],
   "source": [
    "mazeSize = (30, 30) \n",
    "astar_manhat = AStar_Manhat(mazeSize=mazeSize)\n",
    "\n",
    "astar_manhat.startSearch()\n",
    "\n",
    "astar_manhat.algoStats('AStar_Manhat', mazeSize)\n",
    "astar_manhat.m.run()"
   ]
  },
  {
   "cell_type": "code",
   "execution_count": 2,
   "metadata": {},
   "outputs": [
    {
     "name": "stdout",
     "output_type": "stream",
     "text": [
      "Statistics for AStar_Manhat on Maze Size 50x50:\n",
      "Nodes Explored by AStar_Manhat: 1562\n",
      "Time Taken: 21.00 milliseconds\n",
      "Shortest Path Length: 105\n",
      "Memory Used: 273.74 KB\n"
     ]
    }
   ],
   "source": [
    "mazeSize = (50, 50) \n",
    "astar_manhat = AStar_Manhat(mazeSize=mazeSize)\n",
    "\n",
    "astar_manhat.startSearch()\n",
    "\n",
    "astar_manhat.algoStats('AStar_Manhat', mazeSize)\n",
    "astar_manhat.m.run()"
   ]
  },
  {
   "cell_type": "code",
   "execution_count": 2,
   "metadata": {},
   "outputs": [
    {
     "name": "stdout",
     "output_type": "stream",
     "text": [
      "Statistics for AStar_Manhat on Maze Size 70x70:\n",
      "Nodes Explored by AStar_Manhat: 2431\n",
      "Time Taken: 32.51 milliseconds\n",
      "Shortest Path Length: 149\n",
      "Memory Used: 271.85 KB\n"
     ]
    }
   ],
   "source": [
    "mazeSize = (70, 70) \n",
    "astar_manhat = AStar_Manhat(mazeSize=mazeSize)\n",
    "\n",
    "astar_manhat.startSearch()\n",
    "\n",
    "astar_manhat.algoStats('AStar_Manhat', mazeSize)\n",
    "astar_manhat.m.run()"
   ]
  },
  {
   "cell_type": "code",
   "execution_count": 2,
   "metadata": {},
   "outputs": [
    {
     "name": "stdout",
     "output_type": "stream",
     "text": [
      "Statistics for AStar_Euclid on Maze Size 30x30:\n",
      "Nodes Explored by AStar_Euclid: 652\n",
      "Time Taken: 12.01 milliseconds\n",
      "Shortest Path Length: 61\n",
      "Memory Used: 146.01 KB\n"
     ]
    }
   ],
   "source": [
    "mazeSize = (30, 30) \n",
    "astar_euc = AStar_Euclid(mazeSize=mazeSize)\n",
    "\n",
    "astar_euc.startSearch()\n",
    "\n",
    "astar_euc.algoStats('AStar_Euclid', mazeSize)\n",
    "astar_euc.m.run()"
   ]
  },
  {
   "cell_type": "code",
   "execution_count": 2,
   "metadata": {},
   "outputs": [
    {
     "name": "stdout",
     "output_type": "stream",
     "text": [
      "Statistics for AStar_Euclid on Maze Size 50x50:\n",
      "Nodes Explored by AStar_Euclid: 2227\n",
      "Time Taken: 44.52 milliseconds\n",
      "Shortest Path Length: 105\n",
      "Memory Used: 291.71 KB\n"
     ]
    }
   ],
   "source": [
    "mazeSize = (50, 50) \n",
    "astar_euc = AStar_Euclid(mazeSize=mazeSize)\n",
    "\n",
    "astar_euc.startSearch()\n",
    "\n",
    "astar_euc.algoStats('AStar_Euclid', mazeSize)\n",
    "astar_euc.m.run()"
   ]
  },
  {
   "cell_type": "code",
   "execution_count": 3,
   "metadata": {},
   "outputs": [
    {
     "name": "stdout",
     "output_type": "stream",
     "text": [
      "Statistics for AStar_Euclid on Maze Size 70x70:\n",
      "Nodes Explored by AStar_Euclid: 4247\n",
      "Time Taken: 83.00 milliseconds\n",
      "Shortest Path Length: 149\n",
      "Memory Used: 664.68 KB\n"
     ]
    }
   ],
   "source": [
    "mazeSize = (70, 70) \n",
    "astar_euc = AStar_Euclid(mazeSize=mazeSize)\n",
    "\n",
    "astar_euc.startSearch()\n",
    "\n",
    "astar_euc.algoStats('AStar_Euclid',mazeSize)\n",
    "astar_euc.m.run()"
   ]
  },
  {
   "cell_type": "code",
   "execution_count": null,
   "metadata": {},
   "outputs": [],
   "source": []
  },
  {
   "cell_type": "markdown",
   "metadata": {},
   "source": [
    "MDP Policy and Value Iteration"
   ]
  },
  {
   "cell_type": "code",
   "execution_count": 3,
   "metadata": {},
   "outputs": [],
   "source": []
  },
  {
   "cell_type": "code",
   "execution_count": 1,
   "metadata": {},
   "outputs": [],
   "source": [
    "import time\n",
    "from pyamaze import maze, agent, COLOR, textLabel\n",
    "import pandas as pd\n",
    "import tracemalloc\n",
    "\n",
    "#this is my base class for MDP \n",
    "class MarkovDP:\n",
    "    def __init__(self, mazeSize=(1, 1)):\n",
    "        self.maze = maze()\n",
    "        mazeFileName = f'{mazeSize[0]}x{mazeSize[1]}Maze.csv'\n",
    "        self.maze.CreateMaze(loadMaze=mazeFileName, theme='light')\n",
    "        #self.maze = maze(mazeSize[0], mazeSize[1])\n",
    "        #self.maze.CreateMaze(loopPercent=50, saveMaze=True, theme = 'light')\n",
    "        textLabel(self.maze, 'Size of Maze', f'{mazeSize[0]}x{mazeSize[1]}')\n",
    "        self.targt = self.maze._goal\n",
    "        self.start = (self.maze.rows, self.maze.cols)\n",
    "        self.mdp_val = {node: 0 if node != self.targt else 100 for node in self.maze.grid}\n",
    "        self.mdp_reward = {node: -1 if node != self.targt else 100 for node in self.maze.grid}\n",
    "        self.mdp_Policy = {node: 'N' for node in self.maze.grid if node != self.targt}\n",
    "        self.gamma = 0.9\n",
    "        self.threshold = 0.0001\n",
    "        self.agents = {'pathAgent': agent(self.maze, footprints=True, color=COLOR.red, shape='arrow', filled=False)}\n",
    "\n",
    "    def calValue(self, cel, dirr):\n",
    "        if self.maze.maze_map[cel][dirr]: \n",
    "            if dirr == 'N':\n",
    "                newCel = (cel[0] - 1, cel[1])\n",
    "            elif dirr == 'S':\n",
    "                newCel = (cel[0] + 1, cel[1])\n",
    "            elif dirr == 'E':\n",
    "                newCel = (cel[0], cel[1] + 1)\n",
    "            elif dirr == 'W':\n",
    "                newCel = (cel[0], cel[1] - 1)\n",
    "        else:\n",
    "            newCel = cel  \n",
    "        return self.mdp_reward.get(newCel, 0) + self.gamma * self.mdp_val.get(newCel, 0)\n",
    "\n",
    "\n",
    "    def pathFind(self):\n",
    "        cel = self.start\n",
    "        path = {}\n",
    "        while cel != self.targt:\n",
    "            dirr = self.mdp_Policy.get(cel)\n",
    "            if dirr == 'N':\n",
    "                newCel = (cel[0] - 1, cel[1])\n",
    "            elif dirr == 'S':\n",
    "                newCel = (cel[0] + 1, cel[1])\n",
    "            elif dirr == 'E':\n",
    "                newCel = (cel[0], cel[1] + 1)\n",
    "            elif dirr == 'W':\n",
    "                newCel = (cel[0], cel[1] - 1)\n",
    "            else:\n",
    "                break  \n",
    "            path[cel] = newCel\n",
    "            cel = newCel\n",
    "        return path\n",
    "    \n",
    "    def displayPath(self, path):\n",
    "        self.maze.tracePath({self.agents['pathAgent']: path}, delay=50)\n",
    "\n",
    "    def algoStats(self, totalTime, memory_usage):\n",
    "        path = self.pathFind()\n",
    "        bestPathLen = len(path) + 1\n",
    "        print(\"Statistics:\")\n",
    "        print(f\"Time Taken: {totalTime:.2f} milliseconds\")\n",
    "        print(f\"Shortest Path Length: {bestPathLen}\")\n",
    "        print(f\"Memory Usage: {memory_usage / 1024:.2f} KB\")\n",
    "\n",
    "#class for Policy Iteration\n",
    "class MDP_PolicyIter(MarkovDP):\n",
    "    def __init__(self, mazeSize=(1, 1)):\n",
    "        super().__init__(mazeSize)\n",
    "        \n",
    "    def startmdp_PolicyIter(self):\n",
    "        tracemalloc.start()\n",
    "        beginT = time.time()\n",
    "        mdp_PolicyConverged = False\n",
    "        while not mdp_PolicyConverged:\n",
    "            while True:\n",
    "                changeMax = 0\n",
    "                for cel in self.maze.grid:\n",
    "                    if cel == self.targt:\n",
    "                        continue\n",
    "                    lv = self.mdp_val[cel]\n",
    "                    self.mdp_val[cel] = self.calValue(cel, self.mdp_Policy[cel])\n",
    "                    changeMax = max(changeMax, abs(lv - self.mdp_val[cel]))\n",
    "                if changeMax < self.threshold:\n",
    "                    break\n",
    "\n",
    "            mdp_PolicyConverged = True\n",
    "            for cel in self.maze.grid:\n",
    "                if cel == self.targt:\n",
    "                    continue\n",
    "                oact = self.mdp_Policy[cel]\n",
    "                self.mdp_Policy[cel] = max(['N', 'S', 'E', 'W'], key=lambda dirr: self.calValue(cel, dirr))\n",
    "                if oact != self.mdp_Policy[cel]:\n",
    "                    mdp_PolicyConverged = False\n",
    "\n",
    "        _, topmem = tracemalloc.get_traced_memory()\n",
    "        tracemalloc.stop()\n",
    "        stopT = time.time()\n",
    "        self.displayPath(self.pathFind())\n",
    "        self.algoStats((stopT - beginT) * 1000, topmem)\n",
    "\n",
    "#class for Value Iteration\n",
    "class MDP_ValueIter(MarkovDP):\n",
    "    def __init__(self, mazeSize=(1, 1)):\n",
    "        super().__init__(mazeSize)\n",
    "        self.agents = {\n",
    "            'pathAgent': agent(self.maze, footprints=True, color=COLOR.red, shape='arrow', filled=False)\n",
    "        }\n",
    "\n",
    "    def startmdp_ValueIter(self):\n",
    "        tracemalloc.start()\n",
    "        beginT = time.time()\n",
    "        while True:\n",
    "            changeMax = 0\n",
    "            for cel in self.maze.grid:\n",
    "                if cel == self.targt:\n",
    "                    continue\n",
    "                lv = self.mdp_val[cel]\n",
    "                self.mdp_val[cel] = max(self.calValue(cel, dirr) for dirr in ['N', 'S', 'E', 'W'])\n",
    "                changeMax = max(changeMax, abs(lv - self.mdp_val[cel]))\n",
    "            if changeMax < self.threshold:\n",
    "                break\n",
    "\n",
    "        for cel in self.maze.grid:\n",
    "            if cel == self.targt:\n",
    "                continue\n",
    "            self.mdp_Policy[cel] = max(['N', 'S', 'E', 'W'], key=lambda dirr: self.calValue(cel, dirr))\n",
    "\n",
    "        _, topmem = tracemalloc.get_traced_memory()\n",
    "        tracemalloc.stop()\n",
    "        stopT = time.time()\n",
    "        self.displayPath(self.pathFind())\n",
    "        self.algoStats((stopT - beginT) * 1000, topmem ) "
   ]
  },
  {
   "cell_type": "code",
   "execution_count": 2,
   "metadata": {},
   "outputs": [
    {
     "name": "stdout",
     "output_type": "stream",
     "text": [
      "Statistics:\n",
      "Time Taken: 737.63 milliseconds\n",
      "Shortest Path Length: 61\n",
      "Memory Usage: 21.47 KB\n"
     ]
    }
   ],
   "source": [
    "mazeSize = (30, 30) \n",
    "policyIter = MDP_PolicyIter(mazeSize=mazeSize)\n",
    "policyIter.startmdp_PolicyIter()\n",
    "policyIter.maze.run()"
   ]
  },
  {
   "cell_type": "code",
   "execution_count": 2,
   "metadata": {},
   "outputs": [
    {
     "name": "stdout",
     "output_type": "stream",
     "text": [
      "Statistics:\n",
      "Time Taken: 2955.13 milliseconds\n",
      "Shortest Path Length: 105\n",
      "Memory Usage: 58.80 KB\n"
     ]
    }
   ],
   "source": [
    "mazeSize = (50, 50) \n",
    "policyIter = MDP_PolicyIter(mazeSize=mazeSize)\n",
    "policyIter.startmdp_PolicyIter()\n",
    "policyIter.maze.run()"
   ]
  },
  {
   "cell_type": "code",
   "execution_count": 2,
   "metadata": {},
   "outputs": [
    {
     "name": "stdout",
     "output_type": "stream",
     "text": [
      "Statistics:\n",
      "Time Taken: 8292.71 milliseconds\n",
      "Shortest Path Length: 149\n",
      "Memory Usage: 115.05 KB\n"
     ]
    }
   ],
   "source": [
    "mazeSize = (70, 70) \n",
    "policyIter = MDP_PolicyIter(mazeSize=mazeSize)\n",
    "policyIter.startmdp_PolicyIter()\n",
    "policyIter.maze.run()"
   ]
  },
  {
   "cell_type": "code",
   "execution_count": 2,
   "metadata": {},
   "outputs": [
    {
     "name": "stdout",
     "output_type": "stream",
     "text": [
      "Statistics:\n",
      "Time Taken: 228.55 milliseconds\n",
      "Shortest Path Length: 61\n",
      "Memory Usage: 21.48 KB\n"
     ]
    }
   ],
   "source": [
    "mazeSize = (30, 30) \n",
    "valueItr = MDP_ValueIter(mazeSize=mazeSize)\n",
    "valueItr.startmdp_ValueIter()\n",
    "valueItr.maze.run()"
   ]
  },
  {
   "cell_type": "code",
   "execution_count": 2,
   "metadata": {},
   "outputs": [
    {
     "name": "stdout",
     "output_type": "stream",
     "text": [
      "Statistics:\n",
      "Time Taken: 1515.40 milliseconds\n",
      "Shortest Path Length: 105\n",
      "Memory Usage: 59.14 KB\n"
     ]
    }
   ],
   "source": [
    "mazeSize = (50, 50) \n",
    "valueItr = MDP_ValueIter(mazeSize=mazeSize)\n",
    "valueItr.startmdp_ValueIter()\n",
    "valueItr.maze.run()"
   ]
  },
  {
   "cell_type": "code",
   "execution_count": 2,
   "metadata": {},
   "outputs": [
    {
     "name": "stdout",
     "output_type": "stream",
     "text": [
      "Statistics:\n",
      "Time Taken: 3296.00 milliseconds\n",
      "Shortest Path Length: 151\n",
      "Memory Usage: 115.23 KB\n"
     ]
    }
   ],
   "source": [
    "mazeSize = (70, 70) \n",
    "valueItr = MDP_ValueIter(mazeSize=mazeSize)\n",
    "valueItr.startmdp_ValueIter()\n",
    "valueItr.maze.run()"
   ]
  },
  {
   "cell_type": "markdown",
   "metadata": {},
   "source": []
  },
  {
   "cell_type": "code",
   "execution_count": null,
   "metadata": {},
   "outputs": [],
   "source": []
  },
  {
   "cell_type": "code",
   "execution_count": null,
   "metadata": {},
   "outputs": [],
   "source": []
  },
  {
   "cell_type": "code",
   "execution_count": null,
   "metadata": {},
   "outputs": [],
   "source": []
  }
 ],
 "metadata": {
  "kernelspec": {
   "display_name": "base",
   "language": "python",
   "name": "python3"
  },
  "language_info": {
   "codemirror_mode": {
    "name": "ipython",
    "version": 3
   },
   "file_extension": ".py",
   "mimetype": "text/x-python",
   "name": "python",
   "nbconvert_exporter": "python",
   "pygments_lexer": "ipython3",
   "version": "3.12.2"
  }
 },
 "nbformat": 4,
 "nbformat_minor": 2
}
